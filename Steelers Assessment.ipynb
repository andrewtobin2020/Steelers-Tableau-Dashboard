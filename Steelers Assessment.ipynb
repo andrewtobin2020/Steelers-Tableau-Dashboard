{
 "cells": [
  {
   "cell_type": "code",
   "execution_count": 1,
   "metadata": {},
   "outputs": [],
   "source": [
    "# Imports\n",
    "import pandas as pd\n",
    "import numpy as np\n",
    "# import matplotlib.pyplot as plt\n",
    "# import seaborn as sns\n",
    "# import altair as alt  "
   ]
  },
  {
   "cell_type": "code",
   "execution_count": 2,
   "metadata": {},
   "outputs": [],
   "source": [
    "# Loading in datasets\n",
    "wave1 = pd.read_csv(\"Sample Preseason Survey 2023.csv\")\n",
    "wave2 = pd.read_csv(\"Sample Postseason Survey 2023.csv\")"
   ]
  },
  {
   "cell_type": "markdown",
   "metadata": {},
   "source": [
    "# Wave 1"
   ]
  },
  {
   "cell_type": "code",
   "execution_count": 3,
   "metadata": {},
   "outputs": [
    {
     "data": {
      "text/html": [
       "<div>\n",
       "<style scoped>\n",
       "    .dataframe tbody tr th:only-of-type {\n",
       "        vertical-align: middle;\n",
       "    }\n",
       "\n",
       "    .dataframe tbody tr th {\n",
       "        vertical-align: top;\n",
       "    }\n",
       "\n",
       "    .dataframe thead th {\n",
       "        text-align: right;\n",
       "    }\n",
       "</style>\n",
       "<table border=\"1\" class=\"dataframe\">\n",
       "  <thead>\n",
       "    <tr style=\"text-align: right;\">\n",
       "      <th></th>\n",
       "      <th>uuid</th>\n",
       "      <th>Wave</th>\n",
       "      <th>Section</th>\n",
       "      <th>Row</th>\n",
       "      <th>Age</th>\n",
       "      <th>Gender</th>\n",
       "      <th>Tenure</th>\n",
       "      <th>Ovr_Sat</th>\n",
       "      <th>Team_Sat</th>\n",
       "      <th>Comm_Sat</th>\n",
       "      <th>Comm_Freq</th>\n",
       "      <th>Benefit_Sat</th>\n",
       "      <th>Benefit_Aware</th>\n",
       "    </tr>\n",
       "  </thead>\n",
       "  <tbody>\n",
       "    <tr>\n",
       "      <th>0</th>\n",
       "      <td>ca962bfc</td>\n",
       "      <td>1</td>\n",
       "      <td>446</td>\n",
       "      <td>D</td>\n",
       "      <td>45-54</td>\n",
       "      <td>Male</td>\n",
       "      <td>11-20 season</td>\n",
       "      <td>3</td>\n",
       "      <td>7</td>\n",
       "      <td>7</td>\n",
       "      <td>Too few</td>\n",
       "      <td>990</td>\n",
       "      <td>Unaware</td>\n",
       "    </tr>\n",
       "    <tr>\n",
       "      <th>1</th>\n",
       "      <td>b0b208b7</td>\n",
       "      <td>1</td>\n",
       "      <td>315</td>\n",
       "      <td>HH</td>\n",
       "      <td>45-54</td>\n",
       "      <td>Male</td>\n",
       "      <td>2-5 season</td>\n",
       "      <td>8</td>\n",
       "      <td>9</td>\n",
       "      <td>990</td>\n",
       "      <td>Too Many</td>\n",
       "      <td>990</td>\n",
       "      <td>Unaware</td>\n",
       "    </tr>\n",
       "    <tr>\n",
       "      <th>2</th>\n",
       "      <td>e54d351c</td>\n",
       "      <td>1</td>\n",
       "      <td>183</td>\n",
       "      <td>J</td>\n",
       "      <td>25-34</td>\n",
       "      <td>Female</td>\n",
       "      <td>6-10 season</td>\n",
       "      <td>7</td>\n",
       "      <td>3</td>\n",
       "      <td>7</td>\n",
       "      <td>Too Many</td>\n",
       "      <td>990</td>\n",
       "      <td>Unaware</td>\n",
       "    </tr>\n",
       "    <tr>\n",
       "      <th>3</th>\n",
       "      <td>c62eeb63</td>\n",
       "      <td>1</td>\n",
       "      <td>143</td>\n",
       "      <td>M</td>\n",
       "      <td>55-64</td>\n",
       "      <td>Female</td>\n",
       "      <td>6-10 season</td>\n",
       "      <td>9</td>\n",
       "      <td>7</td>\n",
       "      <td>6</td>\n",
       "      <td>Too Many</td>\n",
       "      <td>8</td>\n",
       "      <td>Aware and have NOT used/received</td>\n",
       "    </tr>\n",
       "    <tr>\n",
       "      <th>4</th>\n",
       "      <td>1815ec0f</td>\n",
       "      <td>1</td>\n",
       "      <td>373</td>\n",
       "      <td>H</td>\n",
       "      <td>45-54</td>\n",
       "      <td>Female</td>\n",
       "      <td>11-15 season</td>\n",
       "      <td>8</td>\n",
       "      <td>5</td>\n",
       "      <td>7</td>\n",
       "      <td>Just Right</td>\n",
       "      <td>990</td>\n",
       "      <td>Unaware</td>\n",
       "    </tr>\n",
       "  </tbody>\n",
       "</table>\n",
       "</div>"
      ],
      "text/plain": [
       "       uuid  Wave  Section Row    Age  Gender        Tenure Ovr_Sat Team_Sat  \\\n",
       "0  ca962bfc     1      446   D  45-54    Male  11-20 season       3        7   \n",
       "1  b0b208b7     1      315  HH  45-54    Male    2-5 season       8        9   \n",
       "2  e54d351c     1      183   J  25-34  Female   6-10 season       7        3   \n",
       "3  c62eeb63     1      143   M  55-64  Female   6-10 season       9        7   \n",
       "4  1815ec0f     1      373   H  45-54  Female  11-15 season       8        5   \n",
       "\n",
       "  Comm_Sat   Comm_Freq Benefit_Sat                     Benefit_Aware  \n",
       "0        7     Too few         990                           Unaware  \n",
       "1      990    Too Many         990                           Unaware  \n",
       "2        7    Too Many         990                           Unaware  \n",
       "3        6    Too Many           8  Aware and have NOT used/received  \n",
       "4        7  Just Right         990                           Unaware  "
      ]
     },
     "execution_count": 3,
     "metadata": {},
     "output_type": "execute_result"
    }
   ],
   "source": [
    "# First 5 rows of Wave 1\n",
    "wave1.head()"
   ]
  },
  {
   "cell_type": "code",
   "execution_count": 4,
   "metadata": {},
   "outputs": [
    {
     "data": {
      "text/html": [
       "<div>\n",
       "<style scoped>\n",
       "    .dataframe tbody tr th:only-of-type {\n",
       "        vertical-align: middle;\n",
       "    }\n",
       "\n",
       "    .dataframe tbody tr th {\n",
       "        vertical-align: top;\n",
       "    }\n",
       "\n",
       "    .dataframe thead th {\n",
       "        text-align: right;\n",
       "    }\n",
       "</style>\n",
       "<table border=\"1\" class=\"dataframe\">\n",
       "  <thead>\n",
       "    <tr style=\"text-align: right;\">\n",
       "      <th></th>\n",
       "      <th>Wave</th>\n",
       "      <th>Section</th>\n",
       "    </tr>\n",
       "  </thead>\n",
       "  <tbody>\n",
       "    <tr>\n",
       "      <th>count</th>\n",
       "      <td>1452.0</td>\n",
       "      <td>1452.000000</td>\n",
       "    </tr>\n",
       "    <tr>\n",
       "      <th>mean</th>\n",
       "      <td>1.0</td>\n",
       "      <td>280.689394</td>\n",
       "    </tr>\n",
       "    <tr>\n",
       "      <th>std</th>\n",
       "      <td>0.0</td>\n",
       "      <td>159.745600</td>\n",
       "    </tr>\n",
       "    <tr>\n",
       "      <th>min</th>\n",
       "      <td>1.0</td>\n",
       "      <td>1.000000</td>\n",
       "    </tr>\n",
       "    <tr>\n",
       "      <th>25%</th>\n",
       "      <td>1.0</td>\n",
       "      <td>137.000000</td>\n",
       "    </tr>\n",
       "    <tr>\n",
       "      <th>50%</th>\n",
       "      <td>1.0</td>\n",
       "      <td>283.500000</td>\n",
       "    </tr>\n",
       "    <tr>\n",
       "      <th>75%</th>\n",
       "      <td>1.0</td>\n",
       "      <td>421.000000</td>\n",
       "    </tr>\n",
       "    <tr>\n",
       "      <th>max</th>\n",
       "      <td>1.0</td>\n",
       "      <td>550.000000</td>\n",
       "    </tr>\n",
       "  </tbody>\n",
       "</table>\n",
       "</div>"
      ],
      "text/plain": [
       "         Wave      Section\n",
       "count  1452.0  1452.000000\n",
       "mean      1.0   280.689394\n",
       "std       0.0   159.745600\n",
       "min       1.0     1.000000\n",
       "25%       1.0   137.000000\n",
       "50%       1.0   283.500000\n",
       "75%       1.0   421.000000\n",
       "max       1.0   550.000000"
      ]
     },
     "execution_count": 4,
     "metadata": {},
     "output_type": "execute_result"
    }
   ],
   "source": [
    "# Wave 1 description of numerical columns\n",
    "wave1.describe()"
   ]
  },
  {
   "cell_type": "code",
   "execution_count": 5,
   "metadata": {},
   "outputs": [
    {
     "data": {
      "text/html": [
       "<div>\n",
       "<style scoped>\n",
       "    .dataframe tbody tr th:only-of-type {\n",
       "        vertical-align: middle;\n",
       "    }\n",
       "\n",
       "    .dataframe tbody tr th {\n",
       "        vertical-align: top;\n",
       "    }\n",
       "\n",
       "    .dataframe thead th {\n",
       "        text-align: right;\n",
       "    }\n",
       "</style>\n",
       "<table border=\"1\" class=\"dataframe\">\n",
       "  <thead>\n",
       "    <tr style=\"text-align: right;\">\n",
       "      <th></th>\n",
       "      <th>uuid</th>\n",
       "      <th>Row</th>\n",
       "      <th>Age</th>\n",
       "      <th>Gender</th>\n",
       "      <th>Tenure</th>\n",
       "      <th>Ovr_Sat</th>\n",
       "      <th>Team_Sat</th>\n",
       "      <th>Comm_Sat</th>\n",
       "      <th>Comm_Freq</th>\n",
       "      <th>Benefit_Sat</th>\n",
       "      <th>Benefit_Aware</th>\n",
       "    </tr>\n",
       "  </thead>\n",
       "  <tbody>\n",
       "    <tr>\n",
       "      <th>count</th>\n",
       "      <td>1452</td>\n",
       "      <td>1452</td>\n",
       "      <td>1452</td>\n",
       "      <td>1452</td>\n",
       "      <td>1452</td>\n",
       "      <td>1452</td>\n",
       "      <td>1452</td>\n",
       "      <td>1452</td>\n",
       "      <td>1452</td>\n",
       "      <td>1452</td>\n",
       "      <td>1452</td>\n",
       "    </tr>\n",
       "    <tr>\n",
       "      <th>unique</th>\n",
       "      <td>1452</td>\n",
       "      <td>41</td>\n",
       "      <td>7</td>\n",
       "      <td>4</td>\n",
       "      <td>7</td>\n",
       "      <td>10</td>\n",
       "      <td>11</td>\n",
       "      <td>12</td>\n",
       "      <td>6</td>\n",
       "      <td>11</td>\n",
       "      <td>3</td>\n",
       "    </tr>\n",
       "    <tr>\n",
       "      <th>top</th>\n",
       "      <td>bcc1a437</td>\n",
       "      <td>I</td>\n",
       "      <td>45-54</td>\n",
       "      <td>Male</td>\n",
       "      <td>21+ seasons</td>\n",
       "      <td>8</td>\n",
       "      <td>7</td>\n",
       "      <td>8</td>\n",
       "      <td>Just right</td>\n",
       "      <td>990</td>\n",
       "      <td>Unaware</td>\n",
       "    </tr>\n",
       "    <tr>\n",
       "      <th>freq</th>\n",
       "      <td>1</td>\n",
       "      <td>51</td>\n",
       "      <td>434</td>\n",
       "      <td>934</td>\n",
       "      <td>435</td>\n",
       "      <td>293</td>\n",
       "      <td>219</td>\n",
       "      <td>214</td>\n",
       "      <td>652</td>\n",
       "      <td>900</td>\n",
       "      <td>747</td>\n",
       "    </tr>\n",
       "  </tbody>\n",
       "</table>\n",
       "</div>"
      ],
      "text/plain": [
       "            uuid   Row    Age Gender       Tenure Ovr_Sat Team_Sat Comm_Sat  \\\n",
       "count       1452  1452   1452   1452         1452    1452     1452     1452   \n",
       "unique      1452    41      7      4            7      10       11       12   \n",
       "top     bcc1a437     I  45-54   Male  21+ seasons       8        7        8   \n",
       "freq           1    51    434    934          435     293      219      214   \n",
       "\n",
       "         Comm_Freq Benefit_Sat Benefit_Aware  \n",
       "count         1452        1452          1452  \n",
       "unique           6          11             3  \n",
       "top     Just right         990       Unaware  \n",
       "freq           652         900           747  "
      ]
     },
     "execution_count": 5,
     "metadata": {},
     "output_type": "execute_result"
    }
   ],
   "source": [
    "# Wave 1 description of non-numerical columns\n",
    "wave1.describe(exclude = 'number')"
   ]
  },
  {
   "cell_type": "code",
   "execution_count": 6,
   "metadata": {},
   "outputs": [
    {
     "name": "stdout",
     "output_type": "stream",
     "text": [
      "<class 'pandas.core.frame.DataFrame'>\n",
      "RangeIndex: 1452 entries, 0 to 1451\n",
      "Data columns (total 13 columns):\n",
      " #   Column         Non-Null Count  Dtype \n",
      "---  ------         --------------  ----- \n",
      " 0   uuid           1452 non-null   object\n",
      " 1   Wave           1452 non-null   int64 \n",
      " 2   Section        1452 non-null   int64 \n",
      " 3   Row            1452 non-null   object\n",
      " 4   Age            1452 non-null   object\n",
      " 5   Gender         1452 non-null   object\n",
      " 6   Tenure         1452 non-null   object\n",
      " 7   Ovr_Sat        1452 non-null   object\n",
      " 8   Team_Sat       1452 non-null   object\n",
      " 9   Comm_Sat       1452 non-null   object\n",
      " 10  Comm_Freq      1452 non-null   object\n",
      " 11  Benefit_Sat    1452 non-null   object\n",
      " 12  Benefit_Aware  1452 non-null   object\n",
      "dtypes: int64(2), object(11)\n",
      "memory usage: 147.6+ KB\n"
     ]
    }
   ],
   "source": [
    "# Wave 1 information. Ovr_Sat, Team_Sat, Comm_Sat, and Benefit_Sat were changed\n",
    "wave1.info()"
   ]
  },
  {
   "cell_type": "code",
   "execution_count": 7,
   "metadata": {},
   "outputs": [],
   "source": [
    "# Changing 10 - Extremely satisfied and 1 - Not at all satisfied to 10 and 1, respectively in columns\n",
    "# Ovr_Sat, Team_Sat, Comm_Sat, and Benefit_Sat\n",
    "wave1[\"Ovr_Sat\"] = wave1[\"Ovr_Sat\"].replace(\"10 - Extremely satisfied\",\"10\")\n",
    "wave1[\"Ovr_Sat\"] = wave1[\"Ovr_Sat\"].replace(\"1 - Not at all satisfied\",\"1\")\n",
    "\n",
    "wave1[\"Team_Sat\"] = wave1[\"Team_Sat\"].replace(\"10 - Extremely satisfied\",\"10\")\n",
    "wave1[\"Team_Sat\"] = wave1[\"Team_Sat\"].replace(\"1 - Not at all satisfied\",\"1\")\n",
    "\n",
    "wave1[\"Comm_Sat\"] = wave1[\"Comm_Sat\"].replace(\"10 - Extremely satisfied\",\"10\")\n",
    "wave1[\"Comm_Sat\"] = wave1[\"Comm_Sat\"].replace(\"1 - Not at all satisfied\",\"1\")\n",
    "\n",
    "wave1[\"Benefit_Sat\"] = wave1[\"Benefit_Sat\"].replace(\"10 - Extremely satisfied\",\"10\")\n",
    "wave1[\"Benefit_Sat\"] = wave1[\"Benefit_Sat\"].replace(\"1 - Not at all satisfied\",\"1\")"
   ]
  },
  {
   "cell_type": "code",
   "execution_count": 8,
   "metadata": {},
   "outputs": [
    {
     "name": "stdout",
     "output_type": "stream",
     "text": [
      "<class 'pandas.core.frame.DataFrame'>\n",
      "RangeIndex: 1452 entries, 0 to 1451\n",
      "Data columns (total 13 columns):\n",
      " #   Column         Non-Null Count  Dtype \n",
      "---  ------         --------------  ----- \n",
      " 0   uuid           1452 non-null   object\n",
      " 1   Wave           1452 non-null   int64 \n",
      " 2   Section        1452 non-null   int64 \n",
      " 3   Row            1452 non-null   object\n",
      " 4   Age            1452 non-null   object\n",
      " 5   Gender         1452 non-null   object\n",
      " 6   Tenure         1452 non-null   object\n",
      " 7   Ovr_Sat        1452 non-null   int64 \n",
      " 8   Team_Sat       1452 non-null   int64 \n",
      " 9   Comm_Sat       1452 non-null   int64 \n",
      " 10  Comm_Freq      1452 non-null   object\n",
      " 11  Benefit_Sat    1452 non-null   int64 \n",
      " 12  Benefit_Aware  1452 non-null   object\n",
      "dtypes: int64(6), object(7)\n",
      "memory usage: 147.6+ KB\n"
     ]
    }
   ],
   "source": [
    "# Changing Ovr_Sat, Team_Sat, Comm_Sat, and Benefit_Sat from objects to int64 \n",
    "wave1[\"Ovr_Sat\"] = wave1[\"Ovr_Sat\"].astype(\"int64\")\n",
    "wave1[\"Team_Sat\"] = wave1[\"Team_Sat\"].astype(\"int64\")\n",
    "wave1[\"Comm_Sat\"] = wave1[\"Comm_Sat\"].astype(\"int64\")\n",
    "wave1[\"Benefit_Sat\"] = wave1[\"Benefit_Sat\"].astype(\"int64\")\n",
    "\n",
    "# Wave 1 information after changing data types\n",
    "wave1.info()"
   ]
  },
  {
   "cell_type": "code",
   "execution_count": 9,
   "metadata": {},
   "outputs": [],
   "source": [
    "# Changing \"Too many\", \"Just right\", and \"Too few\" to \"Too Many\", \"Just Right\", and \"Too Few\" in the comm_freq column\n",
    "wave1[\"Comm_Freq\"] = wave1[\"Comm_Freq\"].replace(\"Too many\",\"Too Many\")\n",
    "wave1[\"Comm_Freq\"] = wave1[\"Comm_Freq\"].replace(\"Just right\",\"Just Right\")\n",
    "wave1[\"Comm_Freq\"] = wave1[\"Comm_Freq\"].replace(\"Too few\",\"Too Few\")"
   ]
  },
  {
   "cell_type": "code",
   "execution_count": 10,
   "metadata": {},
   "outputs": [
    {
     "name": "stdout",
     "output_type": "stream",
     "text": [
      "<class 'pandas.core.frame.DataFrame'>\n",
      "Int64Index: 1452 entries, 0 to 1451\n",
      "Data columns (total 13 columns):\n",
      " #   Column         Non-Null Count  Dtype \n",
      "---  ------         --------------  ----- \n",
      " 0   uuid           1452 non-null   object\n",
      " 1   Wave           1452 non-null   int64 \n",
      " 2   Section        1452 non-null   int64 \n",
      " 3   Row            1452 non-null   object\n",
      " 4   Age            1452 non-null   object\n",
      " 5   Gender         1452 non-null   object\n",
      " 6   Tenure         1452 non-null   object\n",
      " 7   Ovr_Sat        1452 non-null   int64 \n",
      " 8   Team_Sat       1452 non-null   int64 \n",
      " 9   Comm_Sat       1452 non-null   int64 \n",
      " 10  Comm_Freq      1452 non-null   object\n",
      " 11  Benefit_Sat    1452 non-null   int64 \n",
      " 12  Benefit_Aware  1452 non-null   object\n",
      "dtypes: int64(6), object(7)\n",
      "memory usage: 158.8+ KB\n"
     ]
    }
   ],
   "source": [
    "# Dropping any potential duplicates in Wave 1 \n",
    "wave1 = wave1.drop_duplicates()\n",
    "\n",
    "# Wave 1 information after dropping any potential duplicates \n",
    "wave1.info()"
   ]
  },
  {
   "cell_type": "code",
   "execution_count": 11,
   "metadata": {},
   "outputs": [
    {
     "data": {
      "text/plain": [
       "7      219\n",
       "8      214\n",
       "6      167\n",
       "5      164\n",
       "9      132\n",
       "10     125\n",
       "4      111\n",
       "1      103\n",
       "3      102\n",
       "2       80\n",
       "990     35\n",
       "Name: Team_Sat, dtype: int64"
      ]
     },
     "execution_count": 11,
     "metadata": {},
     "output_type": "execute_result"
    }
   ],
   "source": [
    "# Value Counts for Team_Sat\n",
    "wave1[\"Team_Sat\"].value_counts()"
   ]
  },
  {
   "cell_type": "code",
   "execution_count": 12,
   "metadata": {},
   "outputs": [
    {
     "name": "stdout",
     "output_type": "stream",
     "text": [
      "6.01\n"
     ]
    }
   ],
   "source": [
    "# Finding average and weighted average for Team_Sat\n",
    "Team_Sat_Rating = [1,2,3,4,5,6,7,8,9,10]\n",
    "Rating_Amount = [103,80,102,111,164,167,219,214,132,125]\n",
    "print(round(np.average(Team_Sat_Rating, weights = Rating_Amount),2))"
   ]
  },
  {
   "cell_type": "code",
   "execution_count": 13,
   "metadata": {},
   "outputs": [
    {
     "data": {
      "text/plain": [
       "7     219\n",
       "8     214\n",
       "6     202\n",
       "5     164\n",
       "9     132\n",
       "10    125\n",
       "4     111\n",
       "1     103\n",
       "3     102\n",
       "2      80\n",
       "Name: Team_Sat, dtype: int64"
      ]
     },
     "execution_count": 13,
     "metadata": {},
     "output_type": "execute_result"
    }
   ],
   "source": [
    "# Replacing 990 values in Team_Sat with 6\n",
    "wave1[\"Team_Sat\"] = wave1[\"Team_Sat\"].replace(990,6)\n",
    "\n",
    "wave1[\"Team_Sat\"].value_counts()"
   ]
  },
  {
   "cell_type": "code",
   "execution_count": 14,
   "metadata": {},
   "outputs": [
    {
     "data": {
      "text/plain": [
       "8      214\n",
       "9      186\n",
       "10     174\n",
       "7      161\n",
       "5      148\n",
       "6      128\n",
       "990    125\n",
       "4       86\n",
       "3       83\n",
       "1       76\n",
       "2       71\n",
       "Name: Comm_Sat, dtype: int64"
      ]
     },
     "execution_count": 14,
     "metadata": {},
     "output_type": "execute_result"
    }
   ],
   "source": [
    "# Value Counts for Comm_Sat\n",
    "wave1[\"Comm_Sat\"].value_counts()"
   ]
  },
  {
   "cell_type": "code",
   "execution_count": 15,
   "metadata": {},
   "outputs": [
    {
     "name": "stdout",
     "output_type": "stream",
     "text": [
      "6.46\n"
     ]
    }
   ],
   "source": [
    "# Finding average and weighted average for Comm_Sat\n",
    "Comm_Sat_Rating = [1,2,3,4,5,6,7,8,9,10]\n",
    "Rating_Amount = [76,71,83,86,148,128,161,214,186,174]\n",
    "print(round(np.average(Comm_Sat_Rating, weights = Rating_Amount),2))"
   ]
  },
  {
   "cell_type": "code",
   "execution_count": 16,
   "metadata": {},
   "outputs": [
    {
     "data": {
      "text/plain": [
       "6     253\n",
       "8     214\n",
       "9     186\n",
       "10    174\n",
       "7     161\n",
       "5     148\n",
       "4      86\n",
       "3      83\n",
       "1      76\n",
       "2      71\n",
       "Name: Comm_Sat, dtype: int64"
      ]
     },
     "execution_count": 16,
     "metadata": {},
     "output_type": "execute_result"
    }
   ],
   "source": [
    "# Replacing 990 values in Comm_Sat with 6\n",
    "wave1[\"Comm_Sat\"] = wave1[\"Comm_Sat\"].replace(990,6)\n",
    "\n",
    "wave1[\"Comm_Sat\"].value_counts()"
   ]
  },
  {
   "cell_type": "code",
   "execution_count": 17,
   "metadata": {},
   "outputs": [
    {
     "data": {
      "text/plain": [
       "990    900\n",
       "10      98\n",
       "5       90\n",
       "8       87\n",
       "7       70\n",
       "9       62\n",
       "6       58\n",
       "1       28\n",
       "3       28\n",
       "2       19\n",
       "4       12\n",
       "Name: Benefit_Sat, dtype: int64"
      ]
     },
     "execution_count": 17,
     "metadata": {},
     "output_type": "execute_result"
    }
   ],
   "source": [
    "# Value Counts for Benefit_Sat\n",
    "wave1[\"Benefit_Sat\"].value_counts()"
   ]
  },
  {
   "cell_type": "code",
   "execution_count": 18,
   "metadata": {},
   "outputs": [
    {
     "data": {
      "text/html": [
       "<div>\n",
       "<style scoped>\n",
       "    .dataframe tbody tr th:only-of-type {\n",
       "        vertical-align: middle;\n",
       "    }\n",
       "\n",
       "    .dataframe tbody tr th {\n",
       "        vertical-align: top;\n",
       "    }\n",
       "\n",
       "    .dataframe thead th {\n",
       "        text-align: right;\n",
       "    }\n",
       "</style>\n",
       "<table border=\"1\" class=\"dataframe\">\n",
       "  <thead>\n",
       "    <tr style=\"text-align: right;\">\n",
       "      <th></th>\n",
       "      <th>uuid</th>\n",
       "      <th>Wave</th>\n",
       "      <th>Section</th>\n",
       "      <th>Row</th>\n",
       "      <th>Age</th>\n",
       "      <th>Gender</th>\n",
       "      <th>Tenure</th>\n",
       "      <th>Ovr_Sat</th>\n",
       "      <th>Team_Sat</th>\n",
       "      <th>Comm_Sat</th>\n",
       "      <th>Comm_Freq</th>\n",
       "      <th>Benefit_Aware</th>\n",
       "    </tr>\n",
       "  </thead>\n",
       "  <tbody>\n",
       "    <tr>\n",
       "      <th>0</th>\n",
       "      <td>ca962bfc</td>\n",
       "      <td>1</td>\n",
       "      <td>446</td>\n",
       "      <td>D</td>\n",
       "      <td>45-54</td>\n",
       "      <td>Male</td>\n",
       "      <td>11-20 season</td>\n",
       "      <td>3</td>\n",
       "      <td>7</td>\n",
       "      <td>7</td>\n",
       "      <td>Too Few</td>\n",
       "      <td>Unaware</td>\n",
       "    </tr>\n",
       "    <tr>\n",
       "      <th>1</th>\n",
       "      <td>b0b208b7</td>\n",
       "      <td>1</td>\n",
       "      <td>315</td>\n",
       "      <td>HH</td>\n",
       "      <td>45-54</td>\n",
       "      <td>Male</td>\n",
       "      <td>2-5 season</td>\n",
       "      <td>8</td>\n",
       "      <td>9</td>\n",
       "      <td>6</td>\n",
       "      <td>Too Many</td>\n",
       "      <td>Unaware</td>\n",
       "    </tr>\n",
       "    <tr>\n",
       "      <th>2</th>\n",
       "      <td>e54d351c</td>\n",
       "      <td>1</td>\n",
       "      <td>183</td>\n",
       "      <td>J</td>\n",
       "      <td>25-34</td>\n",
       "      <td>Female</td>\n",
       "      <td>6-10 season</td>\n",
       "      <td>7</td>\n",
       "      <td>3</td>\n",
       "      <td>7</td>\n",
       "      <td>Too Many</td>\n",
       "      <td>Unaware</td>\n",
       "    </tr>\n",
       "    <tr>\n",
       "      <th>3</th>\n",
       "      <td>c62eeb63</td>\n",
       "      <td>1</td>\n",
       "      <td>143</td>\n",
       "      <td>M</td>\n",
       "      <td>55-64</td>\n",
       "      <td>Female</td>\n",
       "      <td>6-10 season</td>\n",
       "      <td>9</td>\n",
       "      <td>7</td>\n",
       "      <td>6</td>\n",
       "      <td>Too Many</td>\n",
       "      <td>Aware and have NOT used/received</td>\n",
       "    </tr>\n",
       "    <tr>\n",
       "      <th>4</th>\n",
       "      <td>1815ec0f</td>\n",
       "      <td>1</td>\n",
       "      <td>373</td>\n",
       "      <td>H</td>\n",
       "      <td>45-54</td>\n",
       "      <td>Female</td>\n",
       "      <td>11-15 season</td>\n",
       "      <td>8</td>\n",
       "      <td>5</td>\n",
       "      <td>7</td>\n",
       "      <td>Just Right</td>\n",
       "      <td>Unaware</td>\n",
       "    </tr>\n",
       "  </tbody>\n",
       "</table>\n",
       "</div>"
      ],
      "text/plain": [
       "       uuid  Wave  Section Row    Age  Gender        Tenure  Ovr_Sat  \\\n",
       "0  ca962bfc     1      446   D  45-54    Male  11-20 season        3   \n",
       "1  b0b208b7     1      315  HH  45-54    Male    2-5 season        8   \n",
       "2  e54d351c     1      183   J  25-34  Female   6-10 season        7   \n",
       "3  c62eeb63     1      143   M  55-64  Female   6-10 season        9   \n",
       "4  1815ec0f     1      373   H  45-54  Female  11-15 season        8   \n",
       "\n",
       "   Team_Sat  Comm_Sat   Comm_Freq                     Benefit_Aware  \n",
       "0         7         7     Too Few                           Unaware  \n",
       "1         9         6    Too Many                           Unaware  \n",
       "2         3         7    Too Many                           Unaware  \n",
       "3         7         6    Too Many  Aware and have NOT used/received  \n",
       "4         5         7  Just Right                           Unaware  "
      ]
     },
     "execution_count": 18,
     "metadata": {},
     "output_type": "execute_result"
    }
   ],
   "source": [
    "# Dropping Benefit_Sat from wave1 due to high number of N/As (61.98%)\n",
    "wave1.drop(\"Benefit_Sat\", inplace = True, axis=1)\n",
    "\n",
    "wave1.head()"
   ]
  },
  {
   "cell_type": "markdown",
   "metadata": {},
   "source": [
    "# Wave 2"
   ]
  },
  {
   "cell_type": "code",
   "execution_count": 19,
   "metadata": {},
   "outputs": [
    {
     "data": {
      "text/html": [
       "<div>\n",
       "<style scoped>\n",
       "    .dataframe tbody tr th:only-of-type {\n",
       "        vertical-align: middle;\n",
       "    }\n",
       "\n",
       "    .dataframe tbody tr th {\n",
       "        vertical-align: top;\n",
       "    }\n",
       "\n",
       "    .dataframe thead th {\n",
       "        text-align: right;\n",
       "    }\n",
       "</style>\n",
       "<table border=\"1\" class=\"dataframe\">\n",
       "  <thead>\n",
       "    <tr style=\"text-align: right;\">\n",
       "      <th></th>\n",
       "      <th>uuid</th>\n",
       "      <th>Wave</th>\n",
       "      <th>Section</th>\n",
       "      <th>Row</th>\n",
       "      <th>Age</th>\n",
       "      <th>Gender</th>\n",
       "      <th>Tenure</th>\n",
       "      <th>Ovr_Sat</th>\n",
       "      <th>Team_Sat</th>\n",
       "      <th>Comm_Sat</th>\n",
       "      <th>Comm_Freq</th>\n",
       "      <th>Benefit_Sat</th>\n",
       "      <th>Benefit_Aware</th>\n",
       "    </tr>\n",
       "  </thead>\n",
       "  <tbody>\n",
       "    <tr>\n",
       "      <th>0</th>\n",
       "      <td>8727635c</td>\n",
       "      <td>2</td>\n",
       "      <td>187</td>\n",
       "      <td>U</td>\n",
       "      <td>45-54</td>\n",
       "      <td>Male</td>\n",
       "      <td>1 season</td>\n",
       "      <td>8</td>\n",
       "      <td>6</td>\n",
       "      <td>990</td>\n",
       "      <td>Just right</td>\n",
       "      <td>10 - Extremely satisfied</td>\n",
       "      <td>Aware and have used/received</td>\n",
       "    </tr>\n",
       "    <tr>\n",
       "      <th>1</th>\n",
       "      <td>039ec870</td>\n",
       "      <td>2</td>\n",
       "      <td>459</td>\n",
       "      <td>BB</td>\n",
       "      <td>55-64</td>\n",
       "      <td>Male</td>\n",
       "      <td>11-20 season</td>\n",
       "      <td>5</td>\n",
       "      <td>1 - Not at all satisfied</td>\n",
       "      <td>5</td>\n",
       "      <td>Too few</td>\n",
       "      <td>8</td>\n",
       "      <td>Aware and have NOT used/received</td>\n",
       "    </tr>\n",
       "    <tr>\n",
       "      <th>2</th>\n",
       "      <td>0285d1ef</td>\n",
       "      <td>2</td>\n",
       "      <td>452</td>\n",
       "      <td>X</td>\n",
       "      <td>65+</td>\n",
       "      <td>Female</td>\n",
       "      <td>21+ seasons</td>\n",
       "      <td>10 - Extremely satisfied</td>\n",
       "      <td>8</td>\n",
       "      <td>10 - Extremely satisfied</td>\n",
       "      <td>Just right</td>\n",
       "      <td>990</td>\n",
       "      <td>Unaware</td>\n",
       "    </tr>\n",
       "    <tr>\n",
       "      <th>3</th>\n",
       "      <td>9493589e</td>\n",
       "      <td>2</td>\n",
       "      <td>1</td>\n",
       "      <td>Z</td>\n",
       "      <td>45-54</td>\n",
       "      <td>Female</td>\n",
       "      <td>6-10 season</td>\n",
       "      <td>10 - Extremely satisfied</td>\n",
       "      <td>6</td>\n",
       "      <td>2</td>\n",
       "      <td>Just Right</td>\n",
       "      <td>990</td>\n",
       "      <td>Unaware</td>\n",
       "    </tr>\n",
       "    <tr>\n",
       "      <th>4</th>\n",
       "      <td>d7e0f721</td>\n",
       "      <td>2</td>\n",
       "      <td>410</td>\n",
       "      <td>E</td>\n",
       "      <td>55-64</td>\n",
       "      <td>Male</td>\n",
       "      <td>21+ seasons</td>\n",
       "      <td>5</td>\n",
       "      <td>4</td>\n",
       "      <td>9</td>\n",
       "      <td>Just right</td>\n",
       "      <td>8</td>\n",
       "      <td>Aware and have used/received</td>\n",
       "    </tr>\n",
       "  </tbody>\n",
       "</table>\n",
       "</div>"
      ],
      "text/plain": [
       "       uuid  Wave  Section Row    Age  Gender        Tenure  \\\n",
       "0  8727635c     2      187   U  45-54    Male      1 season   \n",
       "1  039ec870     2      459  BB  55-64    Male  11-20 season   \n",
       "2  0285d1ef     2      452   X    65+  Female   21+ seasons   \n",
       "3  9493589e     2        1   Z  45-54  Female   6-10 season   \n",
       "4  d7e0f721     2      410   E  55-64    Male   21+ seasons   \n",
       "\n",
       "                    Ovr_Sat                  Team_Sat  \\\n",
       "0                         8                         6   \n",
       "1                         5  1 - Not at all satisfied   \n",
       "2  10 - Extremely satisfied                         8   \n",
       "3  10 - Extremely satisfied                         6   \n",
       "4                         5                         4   \n",
       "\n",
       "                   Comm_Sat   Comm_Freq               Benefit_Sat  \\\n",
       "0                       990  Just right  10 - Extremely satisfied   \n",
       "1                         5     Too few                         8   \n",
       "2  10 - Extremely satisfied  Just right                       990   \n",
       "3                         2  Just Right                       990   \n",
       "4                         9  Just right                         8   \n",
       "\n",
       "                      Benefit_Aware  \n",
       "0      Aware and have used/received  \n",
       "1  Aware and have NOT used/received  \n",
       "2                           Unaware  \n",
       "3                           Unaware  \n",
       "4      Aware and have used/received  "
      ]
     },
     "execution_count": 19,
     "metadata": {},
     "output_type": "execute_result"
    }
   ],
   "source": [
    "# First 5 rows of Wave 2\n",
    "wave2.head()"
   ]
  },
  {
   "cell_type": "code",
   "execution_count": 20,
   "metadata": {},
   "outputs": [
    {
     "data": {
      "text/html": [
       "<div>\n",
       "<style scoped>\n",
       "    .dataframe tbody tr th:only-of-type {\n",
       "        vertical-align: middle;\n",
       "    }\n",
       "\n",
       "    .dataframe tbody tr th {\n",
       "        vertical-align: top;\n",
       "    }\n",
       "\n",
       "    .dataframe thead th {\n",
       "        text-align: right;\n",
       "    }\n",
       "</style>\n",
       "<table border=\"1\" class=\"dataframe\">\n",
       "  <thead>\n",
       "    <tr style=\"text-align: right;\">\n",
       "      <th></th>\n",
       "      <th>Wave</th>\n",
       "      <th>Section</th>\n",
       "    </tr>\n",
       "  </thead>\n",
       "  <tbody>\n",
       "    <tr>\n",
       "      <th>count</th>\n",
       "      <td>1601.0</td>\n",
       "      <td>1601.000000</td>\n",
       "    </tr>\n",
       "    <tr>\n",
       "      <th>mean</th>\n",
       "      <td>2.0</td>\n",
       "      <td>292.158026</td>\n",
       "    </tr>\n",
       "    <tr>\n",
       "      <th>std</th>\n",
       "      <td>0.0</td>\n",
       "      <td>151.920709</td>\n",
       "    </tr>\n",
       "    <tr>\n",
       "      <th>min</th>\n",
       "      <td>2.0</td>\n",
       "      <td>1.000000</td>\n",
       "    </tr>\n",
       "    <tr>\n",
       "      <th>25%</th>\n",
       "      <td>2.0</td>\n",
       "      <td>166.000000</td>\n",
       "    </tr>\n",
       "    <tr>\n",
       "      <th>50%</th>\n",
       "      <td>2.0</td>\n",
       "      <td>298.000000</td>\n",
       "    </tr>\n",
       "    <tr>\n",
       "      <th>75%</th>\n",
       "      <td>2.0</td>\n",
       "      <td>421.000000</td>\n",
       "    </tr>\n",
       "    <tr>\n",
       "      <th>max</th>\n",
       "      <td>2.0</td>\n",
       "      <td>550.000000</td>\n",
       "    </tr>\n",
       "  </tbody>\n",
       "</table>\n",
       "</div>"
      ],
      "text/plain": [
       "         Wave      Section\n",
       "count  1601.0  1601.000000\n",
       "mean      2.0   292.158026\n",
       "std       0.0   151.920709\n",
       "min       2.0     1.000000\n",
       "25%       2.0   166.000000\n",
       "50%       2.0   298.000000\n",
       "75%       2.0   421.000000\n",
       "max       2.0   550.000000"
      ]
     },
     "execution_count": 20,
     "metadata": {},
     "output_type": "execute_result"
    }
   ],
   "source": [
    "# Wave 2 description of numerical columns\n",
    "wave2.describe()"
   ]
  },
  {
   "cell_type": "code",
   "execution_count": 21,
   "metadata": {},
   "outputs": [
    {
     "data": {
      "text/html": [
       "<div>\n",
       "<style scoped>\n",
       "    .dataframe tbody tr th:only-of-type {\n",
       "        vertical-align: middle;\n",
       "    }\n",
       "\n",
       "    .dataframe tbody tr th {\n",
       "        vertical-align: top;\n",
       "    }\n",
       "\n",
       "    .dataframe thead th {\n",
       "        text-align: right;\n",
       "    }\n",
       "</style>\n",
       "<table border=\"1\" class=\"dataframe\">\n",
       "  <thead>\n",
       "    <tr style=\"text-align: right;\">\n",
       "      <th></th>\n",
       "      <th>uuid</th>\n",
       "      <th>Row</th>\n",
       "      <th>Age</th>\n",
       "      <th>Gender</th>\n",
       "      <th>Tenure</th>\n",
       "      <th>Ovr_Sat</th>\n",
       "      <th>Team_Sat</th>\n",
       "      <th>Comm_Sat</th>\n",
       "      <th>Comm_Freq</th>\n",
       "      <th>Benefit_Sat</th>\n",
       "      <th>Benefit_Aware</th>\n",
       "    </tr>\n",
       "  </thead>\n",
       "  <tbody>\n",
       "    <tr>\n",
       "      <th>count</th>\n",
       "      <td>1601</td>\n",
       "      <td>1601</td>\n",
       "      <td>1601</td>\n",
       "      <td>1601</td>\n",
       "      <td>1601</td>\n",
       "      <td>1601</td>\n",
       "      <td>1601</td>\n",
       "      <td>1601</td>\n",
       "      <td>1601</td>\n",
       "      <td>1601</td>\n",
       "      <td>1601</td>\n",
       "    </tr>\n",
       "    <tr>\n",
       "      <th>unique</th>\n",
       "      <td>1601</td>\n",
       "      <td>41</td>\n",
       "      <td>7</td>\n",
       "      <td>3</td>\n",
       "      <td>7</td>\n",
       "      <td>10</td>\n",
       "      <td>11</td>\n",
       "      <td>11</td>\n",
       "      <td>6</td>\n",
       "      <td>11</td>\n",
       "      <td>3</td>\n",
       "    </tr>\n",
       "    <tr>\n",
       "      <th>top</th>\n",
       "      <td>27a82f90</td>\n",
       "      <td>L</td>\n",
       "      <td>45-54</td>\n",
       "      <td>Male</td>\n",
       "      <td>21+ seasons</td>\n",
       "      <td>8</td>\n",
       "      <td>7</td>\n",
       "      <td>8</td>\n",
       "      <td>Just right</td>\n",
       "      <td>990</td>\n",
       "      <td>Unaware</td>\n",
       "    </tr>\n",
       "    <tr>\n",
       "      <th>freq</th>\n",
       "      <td>1</td>\n",
       "      <td>59</td>\n",
       "      <td>504</td>\n",
       "      <td>1045</td>\n",
       "      <td>413</td>\n",
       "      <td>325</td>\n",
       "      <td>227</td>\n",
       "      <td>240</td>\n",
       "      <td>702</td>\n",
       "      <td>1009</td>\n",
       "      <td>845</td>\n",
       "    </tr>\n",
       "  </tbody>\n",
       "</table>\n",
       "</div>"
      ],
      "text/plain": [
       "            uuid   Row    Age Gender       Tenure Ovr_Sat Team_Sat Comm_Sat  \\\n",
       "count       1601  1601   1601   1601         1601    1601     1601     1601   \n",
       "unique      1601    41      7      3            7      10       11       11   \n",
       "top     27a82f90     L  45-54   Male  21+ seasons       8        7        8   \n",
       "freq           1    59    504   1045          413     325      227      240   \n",
       "\n",
       "         Comm_Freq Benefit_Sat Benefit_Aware  \n",
       "count         1601        1601          1601  \n",
       "unique           6          11             3  \n",
       "top     Just right         990       Unaware  \n",
       "freq           702        1009           845  "
      ]
     },
     "execution_count": 21,
     "metadata": {},
     "output_type": "execute_result"
    }
   ],
   "source": [
    "# Wave 2 description of non-numerical columns\n",
    "wave2.describe(exclude = 'number')"
   ]
  },
  {
   "cell_type": "code",
   "execution_count": 22,
   "metadata": {},
   "outputs": [
    {
     "name": "stdout",
     "output_type": "stream",
     "text": [
      "<class 'pandas.core.frame.DataFrame'>\n",
      "RangeIndex: 1601 entries, 0 to 1600\n",
      "Data columns (total 13 columns):\n",
      " #   Column         Non-Null Count  Dtype \n",
      "---  ------         --------------  ----- \n",
      " 0   uuid           1601 non-null   object\n",
      " 1   Wave           1601 non-null   int64 \n",
      " 2   Section        1601 non-null   int64 \n",
      " 3   Row            1601 non-null   object\n",
      " 4   Age            1601 non-null   object\n",
      " 5   Gender         1601 non-null   object\n",
      " 6   Tenure         1601 non-null   object\n",
      " 7   Ovr_Sat        1601 non-null   object\n",
      " 8   Team_Sat       1601 non-null   object\n",
      " 9   Comm_Sat       1601 non-null   object\n",
      " 10  Comm_Freq      1601 non-null   object\n",
      " 11  Benefit_Sat    1601 non-null   object\n",
      " 12  Benefit_Aware  1601 non-null   object\n",
      "dtypes: int64(2), object(11)\n",
      "memory usage: 162.7+ KB\n"
     ]
    }
   ],
   "source": [
    "# Wave 2 information\n",
    "wave2.info()"
   ]
  },
  {
   "cell_type": "code",
   "execution_count": 23,
   "metadata": {},
   "outputs": [],
   "source": [
    "# Changing 10 - Extremely satisfied and 1 - Not at all satisfied to 10 and 1, respectively in columns\n",
    "# Ovr_Sat, Team_Sat, Comm_Sat, and Benefit_Sat\n",
    "wave2[\"Ovr_Sat\"] = wave2[\"Ovr_Sat\"].replace(\"10 - Extremely satisfied\",\"10\")\n",
    "wave2[\"Ovr_Sat\"] = wave2[\"Ovr_Sat\"].replace(\"1 - Not at all satisfied\",\"1\")\n",
    "\n",
    "wave2[\"Team_Sat\"] = wave2[\"Team_Sat\"].replace(\"10 - Extremely satisfied\",\"10\")\n",
    "wave2[\"Team_Sat\"] = wave2[\"Team_Sat\"].replace(\"1 - Not at all satisfied\",\"1\")\n",
    "\n",
    "wave2[\"Comm_Sat\"] = wave2[\"Comm_Sat\"].replace(\"10 - Extremely satisfied\",\"10\")\n",
    "wave2[\"Comm_Sat\"] = wave2[\"Comm_Sat\"].replace(\"1 - Not at all satisfied\",\"1\")\n",
    "\n",
    "wave2[\"Benefit_Sat\"] = wave2[\"Benefit_Sat\"].replace(\"10 - Extremely satisfied\",\"10\")\n",
    "wave2[\"Benefit_Sat\"] = wave2[\"Benefit_Sat\"].replace(\"1 - Not at all satisfied\",\"1\")"
   ]
  },
  {
   "cell_type": "code",
   "execution_count": 24,
   "metadata": {},
   "outputs": [
    {
     "name": "stdout",
     "output_type": "stream",
     "text": [
      "<class 'pandas.core.frame.DataFrame'>\n",
      "RangeIndex: 1601 entries, 0 to 1600\n",
      "Data columns (total 13 columns):\n",
      " #   Column         Non-Null Count  Dtype \n",
      "---  ------         --------------  ----- \n",
      " 0   uuid           1601 non-null   object\n",
      " 1   Wave           1601 non-null   int64 \n",
      " 2   Section        1601 non-null   int64 \n",
      " 3   Row            1601 non-null   object\n",
      " 4   Age            1601 non-null   object\n",
      " 5   Gender         1601 non-null   object\n",
      " 6   Tenure         1601 non-null   object\n",
      " 7   Ovr_Sat        1601 non-null   int64 \n",
      " 8   Team_Sat       1601 non-null   int64 \n",
      " 9   Comm_Sat       1601 non-null   int64 \n",
      " 10  Comm_Freq      1601 non-null   object\n",
      " 11  Benefit_Sat    1601 non-null   int64 \n",
      " 12  Benefit_Aware  1601 non-null   object\n",
      "dtypes: int64(6), object(7)\n",
      "memory usage: 162.7+ KB\n"
     ]
    }
   ],
   "source": [
    "# Changing Ovr_Sat, Team_Sat, Comm_Sat, and Benefit_Sat from objects to int64 \n",
    "wave2[\"Ovr_Sat\"] = wave2[\"Ovr_Sat\"].astype(\"int64\")\n",
    "wave2[\"Team_Sat\"] = wave2[\"Team_Sat\"].astype(\"int64\")\n",
    "wave2[\"Comm_Sat\"] = wave2[\"Comm_Sat\"].astype(\"int64\")\n",
    "wave2[\"Benefit_Sat\"] = wave2[\"Benefit_Sat\"].astype(\"int64\")\n",
    "\n",
    "# Wave 1 information after changing data types\n",
    "wave2.info()"
   ]
  },
  {
   "cell_type": "code",
   "execution_count": 25,
   "metadata": {},
   "outputs": [],
   "source": [
    "# Changing \"Too many\", \"Just right\", and \"Too few\" to \"Too Many\", \"Just Right\", and \"Too Few\" in the comm_freq column\n",
    "wave2[\"Comm_Freq\"] = wave2[\"Comm_Freq\"].replace(\"Too many\",\"Too Many\")\n",
    "wave2[\"Comm_Freq\"] = wave2[\"Comm_Freq\"].replace(\"Just right\",\"Just Right\")\n",
    "wave2[\"Comm_Freq\"] = wave2[\"Comm_Freq\"].replace(\"Too few\",\"Too Few\")"
   ]
  },
  {
   "cell_type": "code",
   "execution_count": 26,
   "metadata": {},
   "outputs": [
    {
     "name": "stdout",
     "output_type": "stream",
     "text": [
      "<class 'pandas.core.frame.DataFrame'>\n",
      "Int64Index: 1601 entries, 0 to 1600\n",
      "Data columns (total 13 columns):\n",
      " #   Column         Non-Null Count  Dtype \n",
      "---  ------         --------------  ----- \n",
      " 0   uuid           1601 non-null   object\n",
      " 1   Wave           1601 non-null   int64 \n",
      " 2   Section        1601 non-null   int64 \n",
      " 3   Row            1601 non-null   object\n",
      " 4   Age            1601 non-null   object\n",
      " 5   Gender         1601 non-null   object\n",
      " 6   Tenure         1601 non-null   object\n",
      " 7   Ovr_Sat        1601 non-null   int64 \n",
      " 8   Team_Sat       1601 non-null   int64 \n",
      " 9   Comm_Sat       1601 non-null   int64 \n",
      " 10  Comm_Freq      1601 non-null   object\n",
      " 11  Benefit_Sat    1601 non-null   int64 \n",
      " 12  Benefit_Aware  1601 non-null   object\n",
      "dtypes: int64(6), object(7)\n",
      "memory usage: 175.1+ KB\n"
     ]
    }
   ],
   "source": [
    "# Dropping any potential duplicates in Wave 2 \n",
    "wave2 = wave2.drop_duplicates()\n",
    "\n",
    "# Wave 2 information after dropping any potential duplicates \n",
    "wave2.info()"
   ]
  },
  {
   "cell_type": "code",
   "execution_count": 27,
   "metadata": {},
   "outputs": [
    {
     "data": {
      "text/plain": [
       "7      227\n",
       "6      226\n",
       "5      210\n",
       "8      158\n",
       "4      151\n",
       "1      143\n",
       "3      133\n",
       "2      125\n",
       "10     100\n",
       "9       88\n",
       "990     40\n",
       "Name: Team_Sat, dtype: int64"
      ]
     },
     "execution_count": 27,
     "metadata": {},
     "output_type": "execute_result"
    }
   ],
   "source": [
    "# Value Counts for Team_Sat\n",
    "wave2[\"Team_Sat\"].value_counts()"
   ]
  },
  {
   "cell_type": "code",
   "execution_count": 28,
   "metadata": {},
   "outputs": [
    {
     "name": "stdout",
     "output_type": "stream",
     "text": [
      "5.41\n"
     ]
    }
   ],
   "source": [
    "# Finding average and weighted average for Team_Sat\n",
    "Team_Sat_Rating = [1,2,3,4,5,6,7,8,9,10]\n",
    "Rating_Amount = [143,125,133,151,210,226,227,158,88,100]\n",
    "print(round(np.average(Team_Sat_Rating, weights = Rating_Amount),2))"
   ]
  },
  {
   "cell_type": "code",
   "execution_count": 29,
   "metadata": {},
   "outputs": [
    {
     "data": {
      "text/plain": [
       "5     250\n",
       "7     227\n",
       "6     226\n",
       "8     158\n",
       "4     151\n",
       "1     143\n",
       "3     133\n",
       "2     125\n",
       "10    100\n",
       "9      88\n",
       "Name: Team_Sat, dtype: int64"
      ]
     },
     "execution_count": 29,
     "metadata": {},
     "output_type": "execute_result"
    }
   ],
   "source": [
    "# Replacing 990 values in Team_Sat with 5\n",
    "wave2[\"Team_Sat\"] = wave2[\"Team_Sat\"].replace(990,5)\n",
    "\n",
    "wave2[\"Team_Sat\"].value_counts()"
   ]
  },
  {
   "cell_type": "code",
   "execution_count": 30,
   "metadata": {},
   "outputs": [
    {
     "data": {
      "text/plain": [
       "8      240\n",
       "10     221\n",
       "9      196\n",
       "7      194\n",
       "5      152\n",
       "6      139\n",
       "990    113\n",
       "4       93\n",
       "2       86\n",
       "1       85\n",
       "3       82\n",
       "Name: Comm_Sat, dtype: int64"
      ]
     },
     "execution_count": 30,
     "metadata": {},
     "output_type": "execute_result"
    }
   ],
   "source": [
    "# Value Counts for Team_Sat\n",
    "wave2[\"Comm_Sat\"].value_counts()"
   ]
  },
  {
   "cell_type": "code",
   "execution_count": 31,
   "metadata": {},
   "outputs": [
    {
     "name": "stdout",
     "output_type": "stream",
     "text": [
      "6.53\n"
     ]
    }
   ],
   "source": [
    "# Finding average and weighted average for Comm_Sat\n",
    "Comm_Sat_Rating = [1,2,3,4,5,6,7,8,9,10]\n",
    "Rating_Amount = [85,86,82,93,152,139,194,240,196,221]\n",
    "print(round(np.average(Comm_Sat_Rating, weights = Rating_Amount),2))"
   ]
  },
  {
   "cell_type": "code",
   "execution_count": 32,
   "metadata": {},
   "outputs": [
    {
     "data": {
      "text/plain": [
       "7     307\n",
       "8     240\n",
       "10    221\n",
       "9     196\n",
       "5     152\n",
       "6     139\n",
       "4      93\n",
       "2      86\n",
       "1      85\n",
       "3      82\n",
       "Name: Comm_Sat, dtype: int64"
      ]
     },
     "execution_count": 32,
     "metadata": {},
     "output_type": "execute_result"
    }
   ],
   "source": [
    "# Replacing 990 values in Team_Sat with 7\n",
    "wave2[\"Comm_Sat\"] = wave2[\"Comm_Sat\"].replace(990,7)\n",
    "\n",
    "wave2[\"Comm_Sat\"].value_counts()"
   ]
  },
  {
   "cell_type": "code",
   "execution_count": 33,
   "metadata": {},
   "outputs": [
    {
     "data": {
      "text/plain": [
       "990    1009\n",
       "8       110\n",
       "5       103\n",
       "10       93\n",
       "7        91\n",
       "6        58\n",
       "9        54\n",
       "3        34\n",
       "4        19\n",
       "2        16\n",
       "1        14\n",
       "Name: Benefit_Sat, dtype: int64"
      ]
     },
     "execution_count": 33,
     "metadata": {},
     "output_type": "execute_result"
    }
   ],
   "source": [
    "# Value Counts for Benefit_Sat\n",
    "wave2[\"Benefit_Sat\"].value_counts()"
   ]
  },
  {
   "cell_type": "code",
   "execution_count": 34,
   "metadata": {},
   "outputs": [
    {
     "data": {
      "text/html": [
       "<div>\n",
       "<style scoped>\n",
       "    .dataframe tbody tr th:only-of-type {\n",
       "        vertical-align: middle;\n",
       "    }\n",
       "\n",
       "    .dataframe tbody tr th {\n",
       "        vertical-align: top;\n",
       "    }\n",
       "\n",
       "    .dataframe thead th {\n",
       "        text-align: right;\n",
       "    }\n",
       "</style>\n",
       "<table border=\"1\" class=\"dataframe\">\n",
       "  <thead>\n",
       "    <tr style=\"text-align: right;\">\n",
       "      <th></th>\n",
       "      <th>uuid</th>\n",
       "      <th>Wave</th>\n",
       "      <th>Section</th>\n",
       "      <th>Row</th>\n",
       "      <th>Age</th>\n",
       "      <th>Gender</th>\n",
       "      <th>Tenure</th>\n",
       "      <th>Ovr_Sat</th>\n",
       "      <th>Team_Sat</th>\n",
       "      <th>Comm_Sat</th>\n",
       "      <th>Comm_Freq</th>\n",
       "      <th>Benefit_Aware</th>\n",
       "    </tr>\n",
       "  </thead>\n",
       "  <tbody>\n",
       "    <tr>\n",
       "      <th>0</th>\n",
       "      <td>8727635c</td>\n",
       "      <td>2</td>\n",
       "      <td>187</td>\n",
       "      <td>U</td>\n",
       "      <td>45-54</td>\n",
       "      <td>Male</td>\n",
       "      <td>1 season</td>\n",
       "      <td>8</td>\n",
       "      <td>6</td>\n",
       "      <td>7</td>\n",
       "      <td>Just Right</td>\n",
       "      <td>Aware and have used/received</td>\n",
       "    </tr>\n",
       "    <tr>\n",
       "      <th>1</th>\n",
       "      <td>039ec870</td>\n",
       "      <td>2</td>\n",
       "      <td>459</td>\n",
       "      <td>BB</td>\n",
       "      <td>55-64</td>\n",
       "      <td>Male</td>\n",
       "      <td>11-20 season</td>\n",
       "      <td>5</td>\n",
       "      <td>1</td>\n",
       "      <td>5</td>\n",
       "      <td>Too Few</td>\n",
       "      <td>Aware and have NOT used/received</td>\n",
       "    </tr>\n",
       "    <tr>\n",
       "      <th>2</th>\n",
       "      <td>0285d1ef</td>\n",
       "      <td>2</td>\n",
       "      <td>452</td>\n",
       "      <td>X</td>\n",
       "      <td>65+</td>\n",
       "      <td>Female</td>\n",
       "      <td>21+ seasons</td>\n",
       "      <td>10</td>\n",
       "      <td>8</td>\n",
       "      <td>10</td>\n",
       "      <td>Just Right</td>\n",
       "      <td>Unaware</td>\n",
       "    </tr>\n",
       "    <tr>\n",
       "      <th>3</th>\n",
       "      <td>9493589e</td>\n",
       "      <td>2</td>\n",
       "      <td>1</td>\n",
       "      <td>Z</td>\n",
       "      <td>45-54</td>\n",
       "      <td>Female</td>\n",
       "      <td>6-10 season</td>\n",
       "      <td>10</td>\n",
       "      <td>6</td>\n",
       "      <td>2</td>\n",
       "      <td>Just Right</td>\n",
       "      <td>Unaware</td>\n",
       "    </tr>\n",
       "    <tr>\n",
       "      <th>4</th>\n",
       "      <td>d7e0f721</td>\n",
       "      <td>2</td>\n",
       "      <td>410</td>\n",
       "      <td>E</td>\n",
       "      <td>55-64</td>\n",
       "      <td>Male</td>\n",
       "      <td>21+ seasons</td>\n",
       "      <td>5</td>\n",
       "      <td>4</td>\n",
       "      <td>9</td>\n",
       "      <td>Just Right</td>\n",
       "      <td>Aware and have used/received</td>\n",
       "    </tr>\n",
       "  </tbody>\n",
       "</table>\n",
       "</div>"
      ],
      "text/plain": [
       "       uuid  Wave  Section Row    Age  Gender        Tenure  Ovr_Sat  \\\n",
       "0  8727635c     2      187   U  45-54    Male      1 season        8   \n",
       "1  039ec870     2      459  BB  55-64    Male  11-20 season        5   \n",
       "2  0285d1ef     2      452   X    65+  Female   21+ seasons       10   \n",
       "3  9493589e     2        1   Z  45-54  Female   6-10 season       10   \n",
       "4  d7e0f721     2      410   E  55-64    Male   21+ seasons        5   \n",
       "\n",
       "   Team_Sat  Comm_Sat   Comm_Freq                     Benefit_Aware  \n",
       "0         6         7  Just Right      Aware and have used/received  \n",
       "1         1         5     Too Few  Aware and have NOT used/received  \n",
       "2         8        10  Just Right                           Unaware  \n",
       "3         6         2  Just Right                           Unaware  \n",
       "4         4         9  Just Right      Aware and have used/received  "
      ]
     },
     "execution_count": 34,
     "metadata": {},
     "output_type": "execute_result"
    }
   ],
   "source": [
    "# Dropping Benefit_Sat from wave1 due to high number of N/As (63.02%)\n",
    "wave2.drop(\"Benefit_Sat\", inplace = True, axis=1)\n",
    "\n",
    "wave2.head()"
   ]
  },
  {
   "cell_type": "code",
   "execution_count": 35,
   "metadata": {},
   "outputs": [],
   "source": [
    "# Exporting wave1 and wave2 to csv files\n",
    "wave1.to_csv(\"wave1.csv\", sep = ',', header = True)\n",
    "wave2.to_csv(\"wave2.csv\", sep = ',', header = True)"
   ]
  },
  {
   "cell_type": "markdown",
   "metadata": {},
   "source": [
    "# Communication Frequency and Benefit Awareness"
   ]
  },
  {
   "cell_type": "code",
   "execution_count": 36,
   "metadata": {},
   "outputs": [
    {
     "data": {
      "text/plain": [
       "Just Right    865\n",
       "Too Few       344\n",
       "Too Many      243\n",
       "Name: Comm_Freq, dtype: int64"
      ]
     },
     "execution_count": 36,
     "metadata": {},
     "output_type": "execute_result"
    }
   ],
   "source": [
    "# Wave 1 Comm_Freq value counts\n",
    "wave1[\"Comm_Freq\"].value_counts()"
   ]
  },
  {
   "cell_type": "code",
   "execution_count": 37,
   "metadata": {},
   "outputs": [
    {
     "data": {
      "text/plain": [
       "Unaware                             747\n",
       "Aware and have NOT used/received    541\n",
       "Aware and have used/received        164\n",
       "Name: Benefit_Aware, dtype: int64"
      ]
     },
     "execution_count": 37,
     "metadata": {},
     "output_type": "execute_result"
    }
   ],
   "source": [
    "# Wave 1 Benefit_Aware value counts\n",
    "wave1[\"Benefit_Aware\"].value_counts()"
   ]
  },
  {
   "cell_type": "code",
   "execution_count": 38,
   "metadata": {},
   "outputs": [
    {
     "data": {
      "text/plain": [
       "Just Right    934\n",
       "Too Few       389\n",
       "Too Many      278\n",
       "Name: Comm_Freq, dtype: int64"
      ]
     },
     "execution_count": 38,
     "metadata": {},
     "output_type": "execute_result"
    }
   ],
   "source": [
    "# Wave 2 Comm_Freq value counts\n",
    "wave2[\"Comm_Freq\"].value_counts()"
   ]
  },
  {
   "cell_type": "code",
   "execution_count": 39,
   "metadata": {},
   "outputs": [
    {
     "data": {
      "text/plain": [
       "Unaware                             845\n",
       "Aware and have NOT used/received    584\n",
       "Aware and have used/received        172\n",
       "Name: Benefit_Aware, dtype: int64"
      ]
     },
     "execution_count": 39,
     "metadata": {},
     "output_type": "execute_result"
    }
   ],
   "source": [
    "# Wave 2 Benefit_Aware value counts\n",
    "wave2[\"Benefit_Aware\"].value_counts()"
   ]
  },
  {
   "cell_type": "markdown",
   "metadata": {},
   "source": [
    "# Club vs Regular Season Ticket Holders "
   ]
  },
  {
   "cell_type": "code",
   "execution_count": 40,
   "metadata": {},
   "outputs": [],
   "source": [
    "# Club vs Regular season ticket holders\n",
    "Club1 = wave1[wave1.Section <= 100]\n",
    "Club2 = wave2[wave2.Section <= 100]\n",
    "\n",
    "Reg1 = wave1[wave1.Section > 100]\n",
    "Reg2 = wave2[wave2.Section > 100]"
   ]
  },
  {
   "cell_type": "code",
   "execution_count": 41,
   "metadata": {},
   "outputs": [
    {
     "data": {
      "text/plain": [
       "8     50\n",
       "9     50\n",
       "10    49\n",
       "6     31\n",
       "7     28\n",
       "5     20\n",
       "1     10\n",
       "4      8\n",
       "2      7\n",
       "3      6\n",
       "Name: Ovr_Sat, dtype: int64"
      ]
     },
     "execution_count": 41,
     "metadata": {},
     "output_type": "execute_result"
    }
   ],
   "source": [
    "# Ovr_Sat ratings for wave 1 club season ticket holders\n",
    "Club1[\"Ovr_Sat\"].value_counts()"
   ]
  },
  {
   "cell_type": "code",
   "execution_count": 42,
   "metadata": {},
   "outputs": [
    {
     "name": "stdout",
     "output_type": "stream",
     "text": [
      "7.32\n"
     ]
    }
   ],
   "source": [
    "# Finding weighted average for Ovr_Sat\n",
    "Club_Ovr_Sat_Rating = [1,2,3,4,5,6,7,8,9,10]\n",
    "Rating_Amount = [10,7,6,8,20,32,28,50,50,49]\n",
    "print(round(np.average(Club_Ovr_Sat_Rating, weights = Rating_Amount),2))"
   ]
  },
  {
   "cell_type": "code",
   "execution_count": 43,
   "metadata": {},
   "outputs": [
    {
     "data": {
      "text/plain": [
       "7     42\n",
       "8     36\n",
       "6     35\n",
       "10    32\n",
       "9     31\n",
       "5     23\n",
       "2     17\n",
       "3     17\n",
       "1     14\n",
       "4     12\n",
       "Name: Team_Sat, dtype: int64"
      ]
     },
     "execution_count": 43,
     "metadata": {},
     "output_type": "execute_result"
    }
   ],
   "source": [
    "# Team_Sat ratings for wave 1 club season ticket holders\n",
    "Club1[\"Team_Sat\"].value_counts()"
   ]
  },
  {
   "cell_type": "code",
   "execution_count": 44,
   "metadata": {},
   "outputs": [
    {
     "name": "stdout",
     "output_type": "stream",
     "text": [
      "6.38\n"
     ]
    }
   ],
   "source": [
    "# Finding weighted average for Team_Sat\n",
    "Club_Team_Sat_Rating = [1,2,3,4,5,6,7,8,9,10]\n",
    "Rating_Amount = [14,17,17,12,23,35,42,36,31,32]\n",
    "print(round(np.average(Club_Team_Sat_Rating, weights = Rating_Amount),2))"
   ]
  },
  {
   "cell_type": "code",
   "execution_count": 45,
   "metadata": {},
   "outputs": [
    {
     "data": {
      "text/plain": [
       "6     48\n",
       "8     38\n",
       "10    36\n",
       "9     33\n",
       "7     25\n",
       "3     19\n",
       "4     17\n",
       "1     16\n",
       "5     16\n",
       "2     11\n",
       "Name: Comm_Sat, dtype: int64"
      ]
     },
     "execution_count": 45,
     "metadata": {},
     "output_type": "execute_result"
    }
   ],
   "source": [
    "# Comm_Sat ratings for wave 1 club season ticket holders\n",
    "Club1[\"Comm_Sat\"].value_counts()"
   ]
  },
  {
   "cell_type": "code",
   "execution_count": 46,
   "metadata": {},
   "outputs": [
    {
     "name": "stdout",
     "output_type": "stream",
     "text": [
      "6.44\n"
     ]
    }
   ],
   "source": [
    "# Finding weighted average for Comm_Sat\n",
    "Club_Comm_Sat_Rating = [1,2,3,4,5,6,7,8,9,10]\n",
    "Rating_Amount = [16,11,19,17,16,48,25,38,33,36]\n",
    "print(round(np.average(Club_Comm_Sat_Rating, weights = Rating_Amount),2))"
   ]
  },
  {
   "cell_type": "code",
   "execution_count": 47,
   "metadata": {},
   "outputs": [
    {
     "data": {
      "text/plain": [
       "8     39\n",
       "10    36\n",
       "7     31\n",
       "9     29\n",
       "5     18\n",
       "6     15\n",
       "2      8\n",
       "4      6\n",
       "3      5\n",
       "1      3\n",
       "Name: Ovr_Sat, dtype: int64"
      ]
     },
     "execution_count": 47,
     "metadata": {},
     "output_type": "execute_result"
    }
   ],
   "source": [
    "# Ovr_Sat ratings for wave 2 club season ticket holders\n",
    "Club2[\"Ovr_Sat\"].value_counts()"
   ]
  },
  {
   "cell_type": "code",
   "execution_count": 48,
   "metadata": {},
   "outputs": [
    {
     "name": "stdout",
     "output_type": "stream",
     "text": [
      "7.31\n"
     ]
    }
   ],
   "source": [
    "# Finding weighted average for Ovr_Sat\n",
    "Club_Ovr_Sat_Rating2 = [1,2,3,4,5,6,7,8,9,10]\n",
    "Rating_Amount = [3,8,5,6,18,15,31,39,29,36]\n",
    "print(round(np.average(Club_Ovr_Sat_Rating2, weights = Rating_Amount),2))"
   ]
  },
  {
   "cell_type": "code",
   "execution_count": 49,
   "metadata": {},
   "outputs": [
    {
     "data": {
      "text/plain": [
       "5     29\n",
       "7     23\n",
       "6     21\n",
       "1     20\n",
       "2     19\n",
       "8     18\n",
       "9     16\n",
       "10    16\n",
       "3     14\n",
       "4     14\n",
       "Name: Team_Sat, dtype: int64"
      ]
     },
     "execution_count": 49,
     "metadata": {},
     "output_type": "execute_result"
    }
   ],
   "source": [
    "# Team_Sat ratings for wave 2 club season ticket holders\n",
    "Club2[\"Team_Sat\"].value_counts()"
   ]
  },
  {
   "cell_type": "code",
   "execution_count": 50,
   "metadata": {},
   "outputs": [
    {
     "name": "stdout",
     "output_type": "stream",
     "text": [
      "5.45\n"
     ]
    }
   ],
   "source": [
    "# Finding weighted average for Team_Sat\n",
    "Club_Team_Sat_Rating2 = [1,2,3,4,5,6,7,8,9,10]\n",
    "Rating_Amount = [20,19,14,14,29,21,23,18,16,16]\n",
    "print(round(np.average(Club_Team_Sat_Rating2, weights = Rating_Amount),2))"
   ]
  },
  {
   "cell_type": "code",
   "execution_count": 51,
   "metadata": {},
   "outputs": [
    {
     "data": {
      "text/plain": [
       "7     27\n",
       "8     26\n",
       "1     21\n",
       "5     21\n",
       "9     20\n",
       "3     19\n",
       "2     15\n",
       "4     14\n",
       "6     14\n",
       "10    13\n",
       "Name: Comm_Sat, dtype: int64"
      ]
     },
     "execution_count": 51,
     "metadata": {},
     "output_type": "execute_result"
    }
   ],
   "source": [
    "# Comm_Sat ratings for wave 2 club season ticket holders\n",
    "Club2[\"Comm_Sat\"].value_counts()"
   ]
  },
  {
   "cell_type": "code",
   "execution_count": 52,
   "metadata": {},
   "outputs": [
    {
     "name": "stdout",
     "output_type": "stream",
     "text": [
      "5.58\n"
     ]
    }
   ],
   "source": [
    "# Finding weighted average for Comm_Sat\n",
    "Club_Comm_Sat_Rating2 = [1,2,3,4,5,6,7,8,9,10]\n",
    "Rating_Amount = [21,15,19,14,21,14,27,26,20,13]\n",
    "print(round(np.average(Club_Comm_Sat_Rating2, weights = Rating_Amount),2))"
   ]
  },
  {
   "cell_type": "code",
   "execution_count": 53,
   "metadata": {},
   "outputs": [
    {
     "data": {
      "text/plain": [
       "8     243\n",
       "10    215\n",
       "9     189\n",
       "7     180\n",
       "6     108\n",
       "5      97\n",
       "4      50\n",
       "3      48\n",
       "1      33\n",
       "2      30\n",
       "Name: Ovr_Sat, dtype: int64"
      ]
     },
     "execution_count": 53,
     "metadata": {},
     "output_type": "execute_result"
    }
   ],
   "source": [
    "# Ovr_Sat ratings for wave 1 regular season ticket holders\n",
    "Reg1[\"Ovr_Sat\"].value_counts()"
   ]
  },
  {
   "cell_type": "code",
   "execution_count": 54,
   "metadata": {},
   "outputs": [
    {
     "name": "stdout",
     "output_type": "stream",
     "text": [
      "7.23\n"
     ]
    }
   ],
   "source": [
    "# Finding weighted average for Ovr_Sat\n",
    "Reg_Ovr_Sat_Rating = [1,2,3,4,5,6,7,8,9,10]\n",
    "Rating_Amount = [33,30,48,50,97,108,180,243,189,215]\n",
    "print(round(np.average(Reg_Ovr_Sat_Rating, weights = Rating_Amount),2))"
   ]
  },
  {
   "cell_type": "code",
   "execution_count": 55,
   "metadata": {},
   "outputs": [
    {
     "data": {
      "text/plain": [
       "8     178\n",
       "7     177\n",
       "6     167\n",
       "5     141\n",
       "9     101\n",
       "4      99\n",
       "10     93\n",
       "1      89\n",
       "3      85\n",
       "2      63\n",
       "Name: Team_Sat, dtype: int64"
      ]
     },
     "execution_count": 55,
     "metadata": {},
     "output_type": "execute_result"
    }
   ],
   "source": [
    "# Team_Sat ratings for wave 1 regular season ticket holders\n",
    "Reg1[\"Team_Sat\"].value_counts()"
   ]
  },
  {
   "cell_type": "code",
   "execution_count": 56,
   "metadata": {},
   "outputs": [
    {
     "name": "stdout",
     "output_type": "stream",
     "text": [
      "5.93\n"
     ]
    }
   ],
   "source": [
    "# Finding weighted average for Team_Sat\n",
    "Reg_Team_Sat_Rating = [1,2,3,4,5,6,7,8,9,10]\n",
    "Rating_Amount = [89,63,85,99,141,167,177,178,101,93]\n",
    "print(round(np.average(Reg_Team_Sat_Rating, weights = Rating_Amount),2))"
   ]
  },
  {
   "cell_type": "code",
   "execution_count": 57,
   "metadata": {},
   "outputs": [
    {
     "data": {
      "text/plain": [
       "6     205\n",
       "8     176\n",
       "9     153\n",
       "10    138\n",
       "7     136\n",
       "5     132\n",
       "4      69\n",
       "3      64\n",
       "1      60\n",
       "2      60\n",
       "Name: Comm_Sat, dtype: int64"
      ]
     },
     "execution_count": 57,
     "metadata": {},
     "output_type": "execute_result"
    }
   ],
   "source": [
    "# Comm_Sat ratings for wave 1 regular season ticket holders\n",
    "Reg1[\"Comm_Sat\"].value_counts()"
   ]
  },
  {
   "cell_type": "code",
   "execution_count": 58,
   "metadata": {},
   "outputs": [
    {
     "name": "stdout",
     "output_type": "stream",
     "text": [
      "6.42\n"
     ]
    }
   ],
   "source": [
    "# Finding weighted average for Comm_Sat\n",
    "Reg_Comm_Sat_Rating = [1,2,3,4,5,6,7,8,9,10]\n",
    "Rating_Amount = [60,60,64,69,132,205,136,176,153,138]\n",
    "print(round(np.average(Reg_Comm_Sat_Rating, weights = Rating_Amount),2))"
   ]
  },
  {
   "cell_type": "code",
   "execution_count": 59,
   "metadata": {},
   "outputs": [
    {
     "data": {
      "text/plain": [
       "8     286\n",
       "9     232\n",
       "7     229\n",
       "10    228\n",
       "5     126\n",
       "6     116\n",
       "4      54\n",
       "3      50\n",
       "1      48\n",
       "2      42\n",
       "Name: Ovr_Sat, dtype: int64"
      ]
     },
     "execution_count": 59,
     "metadata": {},
     "output_type": "execute_result"
    }
   ],
   "source": [
    "# Ovr_Sat ratings for wave 2 regular season ticket holders\n",
    "Reg2[\"Ovr_Sat\"].value_counts()"
   ]
  },
  {
   "cell_type": "code",
   "execution_count": 60,
   "metadata": {},
   "outputs": [
    {
     "name": "stdout",
     "output_type": "stream",
     "text": [
      "7.15\n"
     ]
    }
   ],
   "source": [
    "# Finding weighted average for Ovr_Sat\n",
    "Reg_Ovr_Sat_Rating2 = [1,2,3,4,5,6,7,8,9,10]\n",
    "Rating_Amount = [48,42,50,54,126,116,229,286,232,228]\n",
    "print(round(np.average(Reg_Ovr_Sat_Rating2, weights = Rating_Amount),2))"
   ]
  },
  {
   "cell_type": "code",
   "execution_count": 61,
   "metadata": {},
   "outputs": [
    {
     "data": {
      "text/plain": [
       "5     221\n",
       "6     205\n",
       "7     204\n",
       "8     140\n",
       "4     137\n",
       "1     123\n",
       "3     119\n",
       "2     106\n",
       "10     84\n",
       "9      72\n",
       "Name: Team_Sat, dtype: int64"
      ]
     },
     "execution_count": 61,
     "metadata": {},
     "output_type": "execute_result"
    }
   ],
   "source": [
    "# Team_Sat ratings for wave 2 regular season ticket holders\n",
    "Reg2[\"Team_Sat\"].value_counts()"
   ]
  },
  {
   "cell_type": "code",
   "execution_count": 62,
   "metadata": {},
   "outputs": [
    {
     "name": "stdout",
     "output_type": "stream",
     "text": [
      "5.39\n"
     ]
    }
   ],
   "source": [
    "# Finding weighted average for Team_Sat\n",
    "Reg_Team_Sat_Rating2 = [1,2,3,4,5,6,7,8,9,10]\n",
    "Rating_Amount = [123,106,119,137,221,205,204,140,72,84]\n",
    "print(round(np.average(Reg_Team_Sat_Rating2, weights = Rating_Amount),2))"
   ]
  },
  {
   "cell_type": "code",
   "execution_count": 63,
   "metadata": {},
   "outputs": [
    {
     "data": {
      "text/plain": [
       "7     280\n",
       "8     214\n",
       "10    208\n",
       "9     176\n",
       "5     131\n",
       "6     125\n",
       "4      79\n",
       "2      71\n",
       "1      64\n",
       "3      63\n",
       "Name: Comm_Sat, dtype: int64"
      ]
     },
     "execution_count": 63,
     "metadata": {},
     "output_type": "execute_result"
    }
   ],
   "source": [
    "# Comm_Sat ratings for wave 2 regular season ticket holders\n",
    "Reg2[\"Comm_Sat\"].value_counts()"
   ]
  },
  {
   "cell_type": "code",
   "execution_count": 64,
   "metadata": {},
   "outputs": [
    {
     "name": "stdout",
     "output_type": "stream",
     "text": [
      "6.7\n"
     ]
    }
   ],
   "source": [
    "# Finding weighted average for Comm_Sat\n",
    "Reg_Comm_Sat_Rating2 = [1,2,3,4,5,6,7,8,9,10]\n",
    "Rating_Amount = [64,71,63,79,131,125,280,214,176,208]\n",
    "print(round(np.average(Reg_Comm_Sat_Rating2, weights = Rating_Amount),2))"
   ]
  }
 ],
 "metadata": {
  "kernelspec": {
   "display_name": "Python 3",
   "language": "python",
   "name": "python3"
  },
  "language_info": {
   "codemirror_mode": {
    "name": "ipython",
    "version": 3
   },
   "file_extension": ".py",
   "mimetype": "text/x-python",
   "name": "python",
   "nbconvert_exporter": "python",
   "pygments_lexer": "ipython3",
   "version": "3.7.1"
  }
 },
 "nbformat": 4,
 "nbformat_minor": 2
}
